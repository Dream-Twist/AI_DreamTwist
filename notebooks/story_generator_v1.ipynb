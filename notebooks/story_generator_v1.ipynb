{
 "cells": [
  {
   "cell_type": "code",
   "execution_count": null,
   "metadata": {},
   "outputs": [],
   "source": [
    "# 저장된 모델, 토크나이저 불러오기\n",
    "import torch\n",
    "from transformers import GPT2LMHeadModel, PreTrainedTokenizerFast\n",
    "\n",
    "device = torch.device('cuda' if torch.cuda.is_available() else 'cpu')\n",
    "\n",
    "output_dir = '../models/final_model_v1'\n",
    "model = GPT2LMHeadModel.from_pretrained(output_dir)\n",
    "tokenizer = PreTrainedTokenizerFast.from_pretrained(output_dir)"
   ]
  },
  {
   "cell_type": "code",
   "execution_count": null,
   "metadata": {},
   "outputs": [],
   "source": [
    "# 동화 생성 함수\n",
    "def make_fairy_tale_story(prompt, model, tokenizer, max_length=512, min_length=100, num_beams=5, temperature=0.7, top_k=20, top_p=0.95):\n",
    "    input_ids = tokenizer.encode(prompt, return_tensors='pt').to(device)\n",
    "    attention_mask = torch.ones_like(input_ids).to(device)\n",
    "    num_return_sequences = 1\n",
    "\n",
    "    with torch.no_grad():\n",
    "        output = model.generate(\n",
    "            input_ids=input_ids.to(model.device),\n",
    "            attention_mask=attention_mask.to(model.device),\n",
    "            max_length=max_length,\n",
    "            min_length=min_length,\n",
    "            num_return_sequences=num_return_sequences,\n",
    "            no_repeat_ngram_size=4,\n",
    "            num_beams = num_beams,\n",
    "            do_sample=True,\n",
    "            temperature=temperature,\n",
    "            top_k=top_k,\n",
    "            top_p=top_p\n",
    "        )\n",
    "\n",
    "    generated_text = tokenizer.decode(output[0], skip_special_tokens=True)\n",
    "    return generated_text"
   ]
  },
  {
   "cell_type": "code",
   "execution_count": null,
   "metadata": {},
   "outputs": [],
   "source": [
    "# 저장된 모델을 사용한 동화 생성 prompt\n",
    "prompt = '옛날에 갈색 물고기가 있었어요.'\n",
    "fairy_tale_story = make_fairy_tale_story(prompt, model, tokenizer, max_length=512)\n",
    "print(fairy_tale_story)"
   ]
  }
 ],
 "metadata": {
  "language_info": {
   "name": "python"
  }
 },
 "nbformat": 4,
 "nbformat_minor": 2
}
